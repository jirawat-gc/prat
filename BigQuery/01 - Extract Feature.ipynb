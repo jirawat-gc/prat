{
  "nbformat": 4,
  "nbformat_minor": 0,
  "metadata": {
    "colab": {
      "name": "Process ",
      "cell_execution_strategy": "setup",
      "provenance": []
    },
    "kernelspec": {
      "name": "python3",
      "display_name": "Python 3"
    },
    "language_info": {
      "name": "python"
    }
  },
  "cells": [
    {
      "cell_type": "code",
      "source": [
        "%reload_ext google.cloud.bigquery"
      ],
      "metadata": {
        "id": "cYVUh5H4eHaP"
      },
      "execution_count": null,
      "outputs": []
    },
    {
      "cell_type": "code",
      "source": [
        "JOB_ID = \"job202404090913\""
      ],
      "metadata": {
        "id": "bBkPGhGIEn10"
      },
      "execution_count": null,
      "outputs": []
    },
    {
      "cell_type": "code",
      "source": [
        "# @title Example 2: Query a table with BigQuery DataFrames\n",
        "# With BigQuery DataFrames, you can use many familiar Pandas methods, but the\n",
        "# processing happens BigQuery rather than the runtime, allowing you to work with larger\n",
        "# DataFrames that would otherwise not fit in the runtime memory.\n",
        "# Learn more here: https://cloud.google.com/python/docs/reference/bigframes/latest\n",
        "\n",
        "import bigframes.pandas as bf\n",
        "\n",
        "bf.options.bigquery.location = \"asia-southeast1\" #this variable is set based on the dataset you chose to query\n",
        "bf.options.bigquery.project = \"curious-pointer-419406\" #this variable is set based on the dataset you chose to query"
      ],
      "metadata": {
        "id": "tJSfAiHycbAj"
      },
      "execution_count": null,
      "outputs": []
    },
    {
      "cell_type": "code",
      "source": [
        "df = bf.read_gbq(\"curious-pointer-419406.raw_patents.thailand_dip_subset_1percent\").to_pandas()"
      ],
      "metadata": {
        "id": "fUsQzlgjiA_G",
        "executionInfo": {
          "status": "ok",
          "timestamp": 1712713853829,
          "user_tz": -420,
          "elapsed": 10555,
          "user": {
            "displayName": "",
            "userId": ""
          }
        },
        "colab": {
          "base_uri": "https://localhost:8080/",
          "height": 34
        },
        "outputId": "ce16a66a-44dc-4237-c3e6-7b780e6a4a54"
      },
      "execution_count": null,
      "outputs": [
        {
          "output_type": "display_data",
          "data": {
            "text/plain": [
              "<IPython.core.display.HTML object>"
            ],
            "text/html": [
              "Query job d6b2849f-78ca-4bd4-8e66-bf017ae66e6a is DONE. 404.3 MB processed. <a target=\"_blank\" href=\"https://console.cloud.google.com/bigquery?project=curious-pointer-419406&j=bq:asia-southeast1:d6b2849f-78ca-4bd4-8e66-bf017ae66e6a&page=queryresults\">Open Job</a>"
            ]
          },
          "metadata": {}
        }
      ]
    },
    {
      "cell_type": "code",
      "source": [
        "# Define page size\n",
        "page_size = 10\n",
        "\n",
        "rows_count = len(df)\n",
        "num_pages = (len(df) + page_size - 1) // page_size\n",
        "\n",
        "print(f'Processing, Total Rows: {rows_count}, Total Pages: {num_pages}')"
      ],
      "metadata": {
        "id": "YQguJBV6iRSI",
        "colab": {
          "base_uri": "https://localhost:8080/"
        },
        "executionInfo": {
          "status": "ok",
          "timestamp": 1712713869556,
          "user_tz": -420,
          "elapsed": 122,
          "user": {
            "displayName": "",
            "userId": ""
          }
        },
        "outputId": "d0a87f1b-c122-4c09-9b41-7fd89ed7a135"
      },
      "execution_count": null,
      "outputs": [
        {
          "output_type": "stream",
          "name": "stdout",
          "text": [
            "Processing, Total Rows: 40778, Total Pages: 4078\n"
          ]
        }
      ]
    },
    {
      "cell_type": "code",
      "source": [
        "from datetime import datetime\n",
        "from google.cloud import bigquery\n",
        "\n",
        "if JOB_ID is None:\n",
        "  JOB_ID = datetime.now().strftime('job%Y%m%d%H%M')\n",
        "\n",
        "TEMP_TABLE = f'{bf.options.bigquery.project}.processing_temp.{JOB_ID}'\n",
        "\n",
        "print(f'Job Table is: {TEMP_TABLE}')\n",
        "\n",
        "schema = [\n",
        "    bigquery.SchemaField(\"ApplicationId\", \"INTEGER\"),\n",
        "    bigquery.SchemaField(\"Title\", \"STRING\"),\n",
        "    bigquery.SchemaField(\"PatentClaims\", \"STRING\"),\n",
        "]\n",
        "\n",
        "client = bigquery.Client()\n",
        "table = bigquery.Table(TEMP_TABLE, schema=schema, )\n",
        "table = client.create_table(table, exists_ok=True)"
      ],
      "metadata": {
        "id": "im0E-PJCEZIV",
        "executionInfo": {
          "status": "ok",
          "timestamp": 1712713893465,
          "user_tz": -420,
          "elapsed": 372,
          "user": {
            "displayName": "",
            "userId": ""
          }
        },
        "colab": {
          "base_uri": "https://localhost:8080/"
        },
        "outputId": "654f1bfd-1039-40ac-9bea-4b8e971ce52b"
      },
      "execution_count": null,
      "outputs": [
        {
          "output_type": "stream",
          "name": "stdout",
          "text": [
            "Job Table is: curious-pointer-419406.processing_temp.job202404090913\n"
          ]
        }
      ]
    },
    {
      "cell_type": "code",
      "source": [
        "PROMPT = \"\"\"\n",
        "## Above is content from patent claims and title. Take a deep breath to consider both Title and Content then answer in this JSON format (without Markdown):\n",
        "{\n",
        "  \"summary\" : describe the patent claim in 3 sentences,\n",
        "  \"chemical\" : if patent claim is related to chemical,\n",
        "  \"polymer\" : if patent claim is related to polymer,\n",
        "  \"home_chemical\" : if patent claim is related to chemical for home use,\n",
        "  \"industrial_chemical\" : if patent claim is related to chemical for industrial use,\n",
        "  \"argriculture\" : if patent claims is about material, product or process related to argriculture,\n",
        "  \"automotive\" : if patent claims is about material, product or process related to automotive industry ,\n",
        "  \"bottle_caps\" : if patent claims is about material, product or process related to production of bottle caps,\n",
        "  \"bottle\" : if patent claims is about material, product or process related to production of bottle,\n",
        "  \"paint\" : if patent claims is about material, product or process related to paint,\n",
        "  \"coating\" : if patent claims is about material, product or process related to surface coating,\n",
        "  \"home_appliances\" : if patent claims is about material, product or process related to home appliances,\n",
        "  \"epoxy_composite\" : if patent claims is about material, product or process related to epoxy composite,\n",
        "  \"packaging\" : if patent claims is about material, product or process related to packaging,\n",
        "  \"large_blow\" : if patent claims is about material, product or process related to lage extrusion (large blow) products such as: barrel drum, spray tank, pontoon, bulk containers ,\n",
        "  \"non_woven\" : if patent claims is about material, product or process related to non-woven products ,\n",
        "  \"pipe\" : if patent claims is about material, product or process related to pipes, such as: gas pipes  liquid pipes, conduit pipes,\n",
        "  \"pipe_fittings\" : if patent claims is about material, product or process related to pipe fittings,\n",
        "  \"wire\" : if patent claims is about material, product or process related to wires and cables,\n",
        "  \"has_chemical_process\" : is patent claims mentioned chemical process ,\n",
        "  \"has_manufacturing_process\" : is patent claims mentioned manufacturing process ,\n",
        "  \"product\" : de-duplicated array of all products and chemicals mentioned in patent claim translated to english,\n",
        "}\n",
        "\"\"\"\n",
        "\n",
        "PROMPT = PROMPT.replace(\"\\n\", \"\")\n",
        "print(PROMPT)"
      ],
      "metadata": {
        "colab": {
          "base_uri": "https://localhost:8080/"
        },
        "id": "r_3ngBive0S3",
        "executionInfo": {
          "status": "ok",
          "timestamp": 1712713897714,
          "user_tz": -420,
          "elapsed": 124,
          "user": {
            "displayName": "",
            "userId": ""
          }
        },
        "outputId": "94884253-9817-4cbe-e0b2-1290abc44307"
      },
      "execution_count": null,
      "outputs": [
        {
          "output_type": "stream",
          "name": "stdout",
          "text": [
            "## Above is content from patent claims and title. Take a deep breath to consider both Title and Content then answer in this JSON format (without Markdown):{  \"summary\" : describe the patent claim in 3 sentences,  \"chemical\" : if patent claim is related to chemical,  \"polymer\" : if patent claim is related to polymer,  \"home_chemical\" : if patent claim is related to chemical for home use,  \"industrial_chemical\" : if patent claim is related to chemical for industrial use,  \"argriculture\" : if patent claims is about material, product or process related to argriculture,  \"automotive\" : if patent claims is about material, product or process related to automotive industry ,  \"bottle_caps\" : if patent claims is about material, product or process related to production of bottle caps,  \"bottle\" : if patent claims is about material, product or process related to production of bottle,  \"paint\" : if patent claims is about material, product or process related to paint,  \"coating\" : if patent claims is about material, product or process related to surface coating,  \"home_appliances\" : if patent claims is about material, product or process related to home appliances,  \"epoxy_composite\" : if patent claims is about material, product or process related to epoxy composite,  \"packaging\" : if patent claims is about material, product or process related to packaging,  \"large_blow\" : if patent claims is about material, product or process related to lage extrusion (large blow) products such as: barrel drum, spray tank, pontoon, bulk containers ,  \"non_woven\" : if patent claims is about material, product or process related to non-woven products ,  \"pipe\" : if patent claims is about material, product or process related to pipes, such as: gas pipes  liquid pipes, conduit pipes,  \"pipe_fittings\" : if patent claims is about material, product or process related to pipe fittings,  \"wire\" : if patent claims is about material, product or process related to wires and cables,  \"has_chemical_process\" : is patent claims mentioned chemical process ,  \"has_manufacturing_process\" : is patent claims mentioned manufacturing process ,  \"product\" : de-duplicated array of all products and chemicals mentioned in patent claim translated to english,}\n"
          ]
        }
      ]
    },
    {
      "cell_type": "code",
      "source": [
        "import time\n",
        "from pandas_gbq import to_gbq\n",
        "\n",
        "def bigquery(sql_query):\n",
        "  query_job = client.query(sql_query)\n",
        "  return query_job.result()\n",
        "\n",
        "\n",
        "def get_sql():\n",
        "  return f\"\"\"\n",
        "  INSERT INTO patents_processed.thailand_dip_1_promptlog\n",
        "    SELECT ApplicationId, Title, prompt As Prompt, ml_generate_text_llm_result As Response, ml_generate_text_status As Status, CURRENT_TIMESTAMP() as Timestamp, '{JOB_ID}' As JobId FROM\n",
        "      ML.GENERATE_TEXT( MODEL `curious-pointer-419406.raw_patents.gemini`,\n",
        "        ( SELECT ApplicationId, Title,\n",
        "                (\n",
        "                  'Title:' || Title ||\n",
        "                  '\\\\n' ||\n",
        "                  'Content:' ||\n",
        "                  '\\\\n' ||\n",
        "                  PatentClaims ||\n",
        "                  '\\\\n\\\\n' ||\n",
        "                  '{PROMPT}'\n",
        "                )\n",
        "                  as prompt\n",
        "          FROM `{TEMP_TABLE}`\n",
        "        ),\n",
        "        STRUCT(0 AS temperature, 3 As top_k, 2000 as max_output_tokens, TRUE AS flatten_json_output));\n",
        "  \"\"\"\n",
        "\n",
        "page_number = 1000\n",
        "total_time = 0\n",
        "\n",
        "for page_number in range(1000, num_pages + 1):\n",
        "\n",
        "    bigquery(f\"\"\"\n",
        "    DELETE FROM {TEMP_TABLE} WHERE true;\n",
        "             \"\"\")\n",
        "\n",
        "    page_start = (page_number - 1) * page_size\n",
        "    page_end = min(page_start + page_size, rows_count)\n",
        "    page_data = df.iloc[page_start:page_end]\n",
        "\n",
        "    # Process the page data (example: print it)\n",
        "    print(f\" Running Page {page_number} of {num_pages}\")\n",
        "\n",
        "    start_time = time.time()\n",
        "\n",
        "    page_data.to_gbq(TEMP_TABLE,  if_exists='replace')\n",
        "\n",
        "    result = bigquery(get_sql())\n",
        "\n",
        "    end_time = time.time()\n",
        "    time_taken = end_time - start_time\n",
        "    total_time = total_time + time_taken\n",
        "\n",
        "    print(f\"Time Taken: {total_time}, Current Pass: {time_taken}\")"
      ],
      "metadata": {
        "id": "RLF_yAcODagY"
      },
      "execution_count": null,
      "outputs": []
    }
  ]
}